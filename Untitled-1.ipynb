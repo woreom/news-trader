{
 "cells": [
  {
   "cell_type": "code",
   "execution_count": 3,
   "metadata": {},
   "outputs": [],
   "source": [
    "from strategy import Close_Position\n",
    "import MetaTrader5 as mt5"
   ]
  },
  {
   "cell_type": "code",
   "execution_count": 37,
   "metadata": {},
   "outputs": [
    {
     "data": {
      "text/plain": [
       "True"
      ]
     },
     "execution_count": 37,
     "metadata": {},
     "output_type": "execute_result"
    }
   ],
   "source": [
    "mt5.initialize()\n",
    "# mt5.Close(symbol='NZDAUD',ticket=182100657)\n",
    "mt5.login(login=51810268, password=\"apmjgjp1\", \n",
    "            server=\"Alpari-MT5-Demo\")"
   ]
  },
  {
   "cell_type": "code",
   "execution_count": 45,
   "metadata": {},
   "outputs": [],
   "source": [
    "result=mt5.order_send({\"order\": 182254949, \"action\": mt5.TRADE_ACTION_REMOVE})"
   ]
  },
  {
   "cell_type": "code",
   "execution_count": 43,
   "metadata": {},
   "outputs": [
    {
     "data": {
      "text/plain": [
       "OrderSendResult(retcode=10009, deal=0, order=182254948, volume=0.0, price=0.0, bid=0.0, ask=0.0, comment='Request executed', request_id=1969463045, retcode_external=0, request=TradeRequest(action=8, magic=0, order=182254948, symbol='', volume=0.0, price=0.0, stoplimit=0.0, sl=0.0, tp=0.0, deviation=0, type=0, type_filling=0, type_time=0, expiration=0, comment='', position=0, position_by=0))"
      ]
     },
     "execution_count": 43,
     "metadata": {},
     "output_type": "execute_result"
    }
   ],
   "source": [
    "result"
   ]
  },
  {
   "cell_type": "code",
   "execution_count": 32,
   "metadata": {},
   "outputs": [],
   "source": [
    "order_type = {\"Buy\": mt5.ORDER_TYPE_BUY_LIMIT, \"Sell\": mt5.ORDER_TYPE_SELL_LIMIT}\n",
    "        \n",
    "request = {\n",
    "    \"action\": mt5.TRADE_ACTION_PENDING,\n",
    "    \"symbol\": \"XAUUSD\",\n",
    "    \"volume\": 1,\n",
    "    \"type\": mt5.ORDER_TYPE_BUY_LIMIT,\n",
    "    \"price\": 1820,\n",
    "    \"sl\": 1800,  \n",
    "    \"tp\": 1840,\n",
    "    \"type_filling\":mt5.ORDER_FILLING_IOC,\n",
    "\n",
    "}\n",
    "trade = mt5.order_send(request)"
   ]
  },
  {
   "cell_type": "code",
   "execution_count": 33,
   "metadata": {},
   "outputs": [],
   "source": [
    "trade"
   ]
  },
  {
   "cell_type": "code",
   "execution_count": 10,
   "metadata": {},
   "outputs": [
    {
     "data": {
      "text/plain": [
       "False"
      ]
     },
     "execution_count": 10,
     "metadata": {},
     "output_type": "execute_result"
    }
   ],
   "source": [
    "mt5.Close(symbol='NZDAUD',ticket=182100657)"
   ]
  },
  {
   "cell_type": "code",
   "execution_count": 8,
   "metadata": {},
   "outputs": [
    {
     "name": "stdout",
     "output_type": "stream",
     "text": [
      "[03/10/2023 17:50:51]closed position: 182100657\n"
     ]
    },
    {
     "data": {
      "text/plain": [
       "False"
      ]
     },
     "execution_count": 8,
     "metadata": {},
     "output_type": "execute_result"
    }
   ],
   "source": [
    "Close_Position(182100657,{},'Close','NZDAUD',0)"
   ]
  },
  {
   "cell_type": "code",
   "execution_count": null,
   "metadata": {},
   "outputs": [],
   "source": []
  }
 ],
 "metadata": {
  "kernelspec": {
   "display_name": "dash",
   "language": "python",
   "name": "python3"
  },
  "language_info": {
   "codemirror_mode": {
    "name": "ipython",
    "version": 3
   },
   "file_extension": ".py",
   "mimetype": "text/x-python",
   "name": "python",
   "nbconvert_exporter": "python",
   "pygments_lexer": "ipython3",
   "version": "3.10.12"
  },
  "orig_nbformat": 4
 },
 "nbformat": 4,
 "nbformat_minor": 2
}
